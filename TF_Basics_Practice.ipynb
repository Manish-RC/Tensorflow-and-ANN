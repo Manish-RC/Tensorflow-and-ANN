{
 "cells": [
  {
   "cell_type": "code",
   "execution_count": 80,
   "id": "c46b87e6",
   "metadata": {},
   "outputs": [],
   "source": [
    "import tensorflow as tf\n",
    "import numpy as np\n",
    "import pandas as pd"
   ]
  },
  {
   "cell_type": "code",
   "execution_count": 2,
   "id": "0bda8a45",
   "metadata": {},
   "outputs": [
    {
     "data": {
      "text/plain": [
       "<tf.Tensor: shape=(), dtype=int32, numpy=3>"
      ]
     },
     "execution_count": 2,
     "metadata": {},
     "output_type": "execute_result"
    }
   ],
   "source": [
    "t1 = tf.constant(3)  # constant\n",
    "t1"
   ]
  },
  {
   "cell_type": "code",
   "execution_count": 81,
   "id": "d3909323",
   "metadata": {},
   "outputs": [
    {
     "data": {
      "text/plain": [
       "<tf.Tensor: shape=(3,), dtype=int32, numpy=array([1, 2, 3])>"
      ]
     },
     "execution_count": 81,
     "metadata": {},
     "output_type": "execute_result"
    }
   ],
   "source": [
    "t1 = tf.constant([1,2,3])\n",
    "t1"
   ]
  },
  {
   "cell_type": "code",
   "execution_count": 82,
   "id": "b901c437",
   "metadata": {},
   "outputs": [
    {
     "data": {
      "text/plain": [
       "<tf.Tensor: shape=(2, 3), dtype=int32, numpy=\n",
       "array([[1, 2, 3],\n",
       "       [4, 5, 6]])>"
      ]
     },
     "execution_count": 82,
     "metadata": {},
     "output_type": "execute_result"
    }
   ],
   "source": [
    "t2 = tf.constant([[1,2,3],[4,5,6]])\n",
    "t2"
   ]
  },
  {
   "cell_type": "code",
   "execution_count": 88,
   "id": "967633b7",
   "metadata": {},
   "outputs": [
    {
     "data": {
      "text/plain": [
       "array([[1, 2, 3],\n",
       "       [4, 5, 6]])"
      ]
     },
     "execution_count": 88,
     "metadata": {},
     "output_type": "execute_result"
    }
   ],
   "source": [
    "t2.numpy() # numpy elements"
   ]
  },
  {
   "cell_type": "code",
   "execution_count": 84,
   "id": "480d4647",
   "metadata": {},
   "outputs": [
    {
     "data": {
      "text/plain": [
       "TensorShape([2, 3])"
      ]
     },
     "execution_count": 84,
     "metadata": {},
     "output_type": "execute_result"
    }
   ],
   "source": [
    "t2.shape # shape"
   ]
  },
  {
   "cell_type": "code",
   "execution_count": 87,
   "id": "4f9f6c80",
   "metadata": {},
   "outputs": [
    {
     "data": {
      "text/plain": [
       "<tf.Tensor: shape=(), dtype=int32, numpy=2>"
      ]
     },
     "execution_count": 87,
     "metadata": {},
     "output_type": "execute_result"
    }
   ],
   "source": [
    "tf.rank(t2)  # dimension"
   ]
  },
  {
   "cell_type": "code",
   "execution_count": 89,
   "id": "862d07e5",
   "metadata": {},
   "outputs": [],
   "source": [
    "# Variable"
   ]
  },
  {
   "cell_type": "code",
   "execution_count": 90,
   "id": "b723b1bb",
   "metadata": {},
   "outputs": [
    {
     "data": {
      "text/plain": [
       "<tf.Variable 'var1:0' shape=() dtype=float32, numpy=3.0>"
      ]
     },
     "execution_count": 90,
     "metadata": {},
     "output_type": "execute_result"
    }
   ],
   "source": [
    "tv1 = tf.Variable(3,dtype=tf.float32,name='var1')  # variable tensor\n",
    "tv1"
   ]
  },
  {
   "cell_type": "code",
   "execution_count": 9,
   "id": "5550e8f4",
   "metadata": {},
   "outputs": [
    {
     "data": {
      "text/plain": [
       "<tf.Variable 'var1:0' shape=(6,) dtype=int32, numpy=array([10, 12, 13,  6,  9,  5])>"
      ]
     },
     "execution_count": 9,
     "metadata": {},
     "output_type": "execute_result"
    }
   ],
   "source": [
    "tv2 = tf.Variable([10,12,13,6,9,5],name='var1')  # variable tensor\n",
    "tv2"
   ]
  },
  {
   "cell_type": "code",
   "execution_count": 91,
   "id": "4450b4e1",
   "metadata": {},
   "outputs": [
    {
     "data": {
      "text/plain": [
       "<tf.Variable 'var1:0' shape=(2, 3) dtype=int32, numpy=\n",
       "array([[10, 12, 13],\n",
       "       [ 6,  9,  5]])>"
      ]
     },
     "execution_count": 91,
     "metadata": {},
     "output_type": "execute_result"
    }
   ],
   "source": [
    "tv3 = tf.Variable([[10,12,13],[6,9,5]],name='var1')  # 2D - variable tensor\n",
    "tv3"
   ]
  },
  {
   "cell_type": "markdown",
   "id": "079c4913",
   "metadata": {},
   "source": [
    "## Indexing , Slicing and Changing"
   ]
  },
  {
   "cell_type": "code",
   "execution_count": 92,
   "id": "67d35f58",
   "metadata": {
    "scrolled": true
   },
   "outputs": [
    {
     "data": {
      "text/plain": [
       "<tf.Variable 'var1:0' shape=(6,) dtype=int32, numpy=array([10, 12, 13,  6,  9,  5])>"
      ]
     },
     "execution_count": 92,
     "metadata": {},
     "output_type": "execute_result"
    }
   ],
   "source": [
    "tv2"
   ]
  },
  {
   "cell_type": "code",
   "execution_count": 93,
   "id": "7bac92ad",
   "metadata": {},
   "outputs": [
    {
     "data": {
      "text/plain": [
       "<tf.Tensor: shape=(), dtype=int32, numpy=10>"
      ]
     },
     "execution_count": 93,
     "metadata": {},
     "output_type": "execute_result"
    }
   ],
   "source": [
    "tv2[0]  # indexing"
   ]
  },
  {
   "cell_type": "code",
   "execution_count": 11,
   "id": "1b0eed2b",
   "metadata": {},
   "outputs": [
    {
     "data": {
      "text/plain": [
       "<tf.Tensor: shape=(3,), dtype=int32, numpy=array([10, 12, 13])>"
      ]
     },
     "execution_count": 11,
     "metadata": {},
     "output_type": "execute_result"
    }
   ],
   "source": [
    "tv2[0:3] # slicing"
   ]
  },
  {
   "cell_type": "code",
   "execution_count": 94,
   "id": "435bf22e",
   "metadata": {},
   "outputs": [
    {
     "data": {
      "text/plain": [
       "<tf.Variable 'var1:0' shape=(2, 3) dtype=int32, numpy=\n",
       "array([[10, 12, 13],\n",
       "       [ 6,  9,  5]])>"
      ]
     },
     "execution_count": 94,
     "metadata": {},
     "output_type": "execute_result"
    }
   ],
   "source": [
    "tv3"
   ]
  },
  {
   "cell_type": "code",
   "execution_count": 95,
   "id": "29d273e9",
   "metadata": {},
   "outputs": [
    {
     "data": {
      "text/plain": [
       "<tf.Variable 'var1:0' shape=(2, 3) dtype=int32, numpy=\n",
       "array([[ 10, 100,  13],\n",
       "       [  6,   9,   5]])>"
      ]
     },
     "execution_count": 95,
     "metadata": {},
     "output_type": "execute_result"
    }
   ],
   "source": [
    "tv3[0,1].assign(100)\n",
    "tv3"
   ]
  },
  {
   "cell_type": "markdown",
   "id": "8a7f4b6b",
   "metadata": {},
   "source": [
    "#### Creating Different Tensor Variables"
   ]
  },
  {
   "cell_type": "code",
   "execution_count": 12,
   "id": "bbef8da9",
   "metadata": {},
   "outputs": [
    {
     "data": {
      "text/plain": [
       "<tf.Tensor: shape=(4, 3), dtype=float32, numpy=\n",
       "array([[-0.72933125, -0.12714861, -0.04499909],\n",
       "       [-1.5421929 , -0.15424512, -0.0499175 ],\n",
       "       [-0.0752845 ,  0.43112552,  0.82058555],\n",
       "       [ 1.6732407 ,  2.5628695 , -1.3349689 ]], dtype=float32)>"
      ]
     },
     "execution_count": 12,
     "metadata": {},
     "output_type": "execute_result"
    }
   ],
   "source": [
    "tv3 = tf.random.normal([4,3]) # creating normal dist\n",
    "tv3"
   ]
  },
  {
   "cell_type": "code",
   "execution_count": 96,
   "id": "c4b8e3ba",
   "metadata": {},
   "outputs": [
    {
     "data": {
      "text/plain": [
       "<tf.Tensor: shape=(4, 3), dtype=float32, numpy=\n",
       "array([[0.42153823, 0.3078686 , 0.01021552],\n",
       "       [0.7163876 , 0.33328676, 0.9246019 ],\n",
       "       [0.44385517, 0.44001722, 0.93251634],\n",
       "       [0.24456811, 0.00701845, 0.6696799 ]], dtype=float32)>"
      ]
     },
     "execution_count": 96,
     "metadata": {},
     "output_type": "execute_result"
    }
   ],
   "source": [
    "tv3 = tf.random.uniform([4,3]) # creating normal dist\n",
    "tv3"
   ]
  },
  {
   "cell_type": "code",
   "execution_count": 16,
   "id": "7ba77931",
   "metadata": {
    "scrolled": true
   },
   "outputs": [
    {
     "data": {
      "text/plain": [
       "<tf.Tensor: shape=(3, 3), dtype=float32, numpy=\n",
       "array([[1., 1., 1.],\n",
       "       [1., 1., 1.],\n",
       "       [1., 1., 1.]], dtype=float32)>"
      ]
     },
     "execution_count": 16,
     "metadata": {},
     "output_type": "execute_result"
    }
   ],
   "source": [
    "tf.ones([3,3])"
   ]
  },
  {
   "cell_type": "code",
   "execution_count": 17,
   "id": "d0437384",
   "metadata": {},
   "outputs": [
    {
     "data": {
      "text/plain": [
       "<tf.Tensor: shape=(3, 3), dtype=float32, numpy=\n",
       "array([[0., 0., 0.],\n",
       "       [0., 0., 0.],\n",
       "       [0., 0., 0.]], dtype=float32)>"
      ]
     },
     "execution_count": 17,
     "metadata": {},
     "output_type": "execute_result"
    }
   ],
   "source": [
    "tf.zeros([3,3])"
   ]
  },
  {
   "cell_type": "code",
   "execution_count": 13,
   "id": "a6aec17d",
   "metadata": {},
   "outputs": [
    {
     "data": {
      "text/plain": [
       "<tf.Variable 'Variable:0' shape=(4, 3) dtype=float32, numpy=\n",
       "array([[-0.72933125, -0.12714861, -0.04499909],\n",
       "       [-1.5421929 , -0.15424512, -0.0499175 ],\n",
       "       [-0.0752845 ,  0.43112552,  0.82058555],\n",
       "       [ 1.6732407 ,  2.5628695 , -1.3349689 ]], dtype=float32)>"
      ]
     },
     "execution_count": 13,
     "metadata": {},
     "output_type": "execute_result"
    }
   ],
   "source": [
    "tv4 = tf.Variable(tv3)\n",
    "tv4"
   ]
  },
  {
   "cell_type": "code",
   "execution_count": 28,
   "id": "0a8bad19",
   "metadata": {},
   "outputs": [
    {
     "data": {
      "text/plain": [
       "<tf.Tensor: shape=(1, 4), dtype=float32, numpy=array([[1., 2., 3., 4.]], dtype=float32)>"
      ]
     },
     "execution_count": 28,
     "metadata": {},
     "output_type": "execute_result"
    }
   ],
   "source": [
    "tf1 = tf.reshape(tf1,(1,4))\n",
    "tf1"
   ]
  },
  {
   "cell_type": "markdown",
   "id": "c4f0e12e",
   "metadata": {},
   "source": [
    "## Arithmetic Operations"
   ]
  },
  {
   "cell_type": "code",
   "execution_count": 29,
   "id": "a8d5f66f",
   "metadata": {},
   "outputs": [],
   "source": [
    "tf1 = tf.Variable([[1,2],[3,4]])\n",
    "tf2= tf.Variable([[10,20],[30,40]])"
   ]
  },
  {
   "cell_type": "code",
   "execution_count": 30,
   "id": "00742635",
   "metadata": {},
   "outputs": [
    {
     "data": {
      "text/plain": [
       "<tf.Tensor: shape=(2, 2), dtype=int32, numpy=\n",
       "array([[11, 22],\n",
       "       [33, 44]])>"
      ]
     },
     "execution_count": 30,
     "metadata": {},
     "output_type": "execute_result"
    }
   ],
   "source": [
    "tf1+tf2"
   ]
  },
  {
   "cell_type": "code",
   "execution_count": 31,
   "id": "33c13d25",
   "metadata": {},
   "outputs": [
    {
     "data": {
      "text/plain": [
       "<tf.Tensor: shape=(2, 2), dtype=int32, numpy=\n",
       "array([[ -9, -18],\n",
       "       [-27, -36]])>"
      ]
     },
     "execution_count": 31,
     "metadata": {},
     "output_type": "execute_result"
    }
   ],
   "source": [
    "tf1-tf2"
   ]
  },
  {
   "cell_type": "code",
   "execution_count": 32,
   "id": "cd8b9cb7",
   "metadata": {},
   "outputs": [
    {
     "data": {
      "text/plain": [
       "<tf.Tensor: shape=(2, 2), dtype=int32, numpy=\n",
       "array([[ 10,  40],\n",
       "       [ 90, 160]])>"
      ]
     },
     "execution_count": 32,
     "metadata": {},
     "output_type": "execute_result"
    }
   ],
   "source": [
    "tf1*tf2"
   ]
  },
  {
   "cell_type": "code",
   "execution_count": 34,
   "id": "efee53ba",
   "metadata": {},
   "outputs": [
    {
     "data": {
      "text/plain": [
       "<tf.Tensor: shape=(2, 2), dtype=int32, numpy=\n",
       "array([[ 1,  4],\n",
       "       [ 9, 16]])>"
      ]
     },
     "execution_count": 34,
     "metadata": {},
     "output_type": "execute_result"
    }
   ],
   "source": [
    "tf.pow(tf1,2)"
   ]
  },
  {
   "cell_type": "code",
   "execution_count": 35,
   "id": "71fc7ba3",
   "metadata": {},
   "outputs": [
    {
     "data": {
      "text/plain": [
       "<tf.Tensor: shape=(3,), dtype=float32, numpy=array([1.       , 1.4142135, 1.7320508], dtype=float32)>"
      ]
     },
     "execution_count": 35,
     "metadata": {},
     "output_type": "execute_result"
    }
   ],
   "source": [
    "tf1 = tf.Variable([1.,2,3])\n",
    "tf.sqrt(tf1)"
   ]
  },
  {
   "cell_type": "code",
   "execution_count": 36,
   "id": "e3bce649",
   "metadata": {},
   "outputs": [
    {
     "data": {
      "text/plain": [
       "<tf.Tensor: shape=(), dtype=float32, numpy=20.3>"
      ]
     },
     "execution_count": 36,
     "metadata": {},
     "output_type": "execute_result"
    }
   ],
   "source": [
    "a =  tf.Variable([2.,3,4])\n",
    "b = tf.Variable([3.,2.1,2])\n",
    "tf.tensordot(a,b,1)"
   ]
  },
  {
   "cell_type": "code",
   "execution_count": 98,
   "id": "9bd3362d",
   "metadata": {},
   "outputs": [
    {
     "data": {
      "text/plain": [
       "<tf.Tensor: shape=(3, 3), dtype=float32, numpy=\n",
       "array([[ 6.,  4., 10.],\n",
       "       [ 9.,  6., 15.],\n",
       "       [12.,  8., 20.]], dtype=float32)>"
      ]
     },
     "execution_count": 98,
     "metadata": {},
     "output_type": "execute_result"
    }
   ],
   "source": [
    "a =  tf.Variable([2.,3,4])\n",
    "b = tf.Variable([3.,2,5])\n",
    "tf.tensordot(a,b,0)"
   ]
  },
  {
   "cell_type": "markdown",
   "id": "7a311615",
   "metadata": {},
   "source": [
    "## Linear Algebra "
   ]
  },
  {
   "cell_type": "code",
   "execution_count": 38,
   "id": "5ff40094",
   "metadata": {},
   "outputs": [
    {
     "data": {
      "text/plain": [
       "<tf.Tensor: shape=(2, 2), dtype=float32, numpy=\n",
       "array([[15. , 10.2],\n",
       "       [15. , 10.1]], dtype=float32)>"
      ]
     },
     "execution_count": 38,
     "metadata": {},
     "output_type": "execute_result"
    }
   ],
   "source": [
    "a =  tf.Variable([[2.,3],[1,4]])\n",
    "b = tf.Variable([[3.,2.1],[3,2]])\n",
    "tf.matmul(a,b)"
   ]
  },
  {
   "cell_type": "code",
   "execution_count": 39,
   "id": "a06dd35f",
   "metadata": {},
   "outputs": [
    {
     "data": {
      "text/plain": [
       "<tf.Tensor: shape=(2,), dtype=complex64, numpy=array([0.99999994+0.j, 5.0000005 +0.j], dtype=complex64)>"
      ]
     },
     "execution_count": 39,
     "metadata": {},
     "output_type": "execute_result"
    }
   ],
   "source": [
    "tf.linalg.eigvals(a)"
   ]
  },
  {
   "cell_type": "code",
   "execution_count": 40,
   "id": "34d2b616",
   "metadata": {},
   "outputs": [
    {
     "data": {
      "text/plain": [
       "<tf.Tensor: shape=(), dtype=float32, numpy=5.0>"
      ]
     },
     "execution_count": 40,
     "metadata": {},
     "output_type": "execute_result"
    }
   ],
   "source": [
    "tf.linalg.det(a)"
   ]
  },
  {
   "cell_type": "code",
   "execution_count": 41,
   "id": "da768142",
   "metadata": {},
   "outputs": [
    {
     "data": {
      "text/plain": [
       "<tf.Tensor: shape=(2, 2), dtype=float32, numpy=\n",
       "array([[2., 1.],\n",
       "       [3., 4.]], dtype=float32)>"
      ]
     },
     "execution_count": 41,
     "metadata": {},
     "output_type": "execute_result"
    }
   ],
   "source": [
    "tf.transpose(a)"
   ]
  },
  {
   "cell_type": "markdown",
   "id": "6c9eae3a",
   "metadata": {},
   "source": [
    "## Optimizing the Coefficients for miminum loss in Tensorflow"
   ]
  },
  {
   "cell_type": "code",
   "execution_count": 141,
   "id": "a50603ed",
   "metadata": {},
   "outputs": [
    {
     "data": {
      "text/plain": [
       "array([[ 1. , 23. ,  0.5,  1. ],\n",
       "       [ 1. , 26. ,  2. ,  1. ],\n",
       "       [ 1. , 34. ,  6. ,  2. ],\n",
       "       [ 1. , 34. , 10. ,  1. ],\n",
       "       [ 1. , 22. ,  0. ,  1. ],\n",
       "       [ 1. , 27. ,  1. ,  2. ],\n",
       "       [ 1. , 36. , 11. ,  1. ],\n",
       "       [ 1. , 35. ,  7. ,  2. ]], dtype=float32)"
      ]
     },
     "execution_count": 141,
     "metadata": {},
     "output_type": "execute_result"
    }
   ],
   "source": [
    "inp=tf.constant([[1,23,0.5,1],[1,26,2,1],[1,34,6,2],[1,34,10,1],[1,22,0,1],\n",
    "                 [1,27,1,2],[1,36,11,1],[1,35,7,2]])\n",
    "inp.numpy()"
   ]
  },
  {
   "cell_type": "code",
   "execution_count": 142,
   "id": "398d2ee9",
   "metadata": {},
   "outputs": [
    {
     "data": {
      "text/plain": [
       "array([[ 2. ],\n",
       "       [ 3. ],\n",
       "       [ 6. ],\n",
       "       [10. ],\n",
       "       [ 1.8],\n",
       "       [ 2.5],\n",
       "       [10.2],\n",
       "       [ 7.5]], dtype=float32)"
      ]
     },
     "execution_count": 142,
     "metadata": {},
     "output_type": "execute_result"
    }
   ],
   "source": [
    "out=tf.constant([[2],[3],[6],[10],[1.8],[2.5],[10.2],[7.5]]) # output/ target - regression\n",
    "out.numpy()"
   ]
  },
  {
   "cell_type": "code",
   "execution_count": 143,
   "id": "87712f73",
   "metadata": {},
   "outputs": [],
   "source": [
    "def inp_weig_mul(inp,wei):\n",
    "    return tf.tensordot(inp,wei,1) # output"
   ]
  },
  {
   "cell_type": "code",
   "execution_count": 144,
   "id": "ef2b692d",
   "metadata": {},
   "outputs": [],
   "source": [
    "wei = tf.Variable([1.,1.,1.,1.])\n",
    "loss =lambda:tf.reduce_sum((inp_weig_mul(inp,wei)-tf.transpose(out))**2)"
   ]
  },
  {
   "cell_type": "code",
   "execution_count": 145,
   "id": "83e0e4be",
   "metadata": {},
   "outputs": [],
   "source": [
    "opti=tf.optimizers.Adam(learning_rate=0.01) # Use adam optmizer (Gradient descent variant to find coeff)"
   ]
  },
  {
   "cell_type": "code",
   "execution_count": 146,
   "id": "d4f659be",
   "metadata": {},
   "outputs": [],
   "source": [
    "for i in range(100):\n",
    "    opti.minimize(loss,var_list=[wei])"
   ]
  },
  {
   "cell_type": "code",
   "execution_count": 147,
   "id": "8921f2c1",
   "metadata": {},
   "outputs": [
    {
     "data": {
      "text/plain": [
       "array([0.27072236, 0.27484572, 0.2920162 , 0.2689417 ], dtype=float32)"
      ]
     },
     "execution_count": 147,
     "metadata": {},
     "output_type": "execute_result"
    }
   ],
   "source": [
    "wei.numpy()"
   ]
  },
  {
   "cell_type": "code",
   "execution_count": null,
   "id": "4b009a20",
   "metadata": {},
   "outputs": [],
   "source": []
  }
 ],
 "metadata": {
  "kernelspec": {
   "display_name": "Python 3 (ipykernel)",
   "language": "python",
   "name": "python3"
  },
  "language_info": {
   "codemirror_mode": {
    "name": "ipython",
    "version": 3
   },
   "file_extension": ".py",
   "mimetype": "text/x-python",
   "name": "python",
   "nbconvert_exporter": "python",
   "pygments_lexer": "ipython3",
   "version": "3.9.7"
  }
 },
 "nbformat": 4,
 "nbformat_minor": 5
}
